{
 "cells": [
  {
   "cell_type": "markdown",
   "id": "cbfed030",
   "metadata": {},
   "source": [
    "We'll explore Next.js 15's new features and improvements, focusing on performance enhancements, developer experience, and new APIs that make building web applications easier and more efficient.\n"
   ]
  },
  {
   "cell_type": "markdown",
   "id": "b9eb537a",
   "metadata": {},
   "source": [
    "**Problem with `React`**\n",
    "\n",
    "- SEO is not possible with `React` because it is a `client-side rendering` library.\n",
    "\n",
    "- `React` is a `library` and not a `framework`. So, it does not provide any structure to the application.\n",
    "\n",
    "- We need to use `third-party libraries` to handle routing, state management, etc.\n"
   ]
  },
  {
   "cell_type": "markdown",
   "id": "9820e422",
   "metadata": {},
   "source": [
    "<hr>\n",
    "<hr>\n",
    "<hr>\n"
   ]
  },
  {
   "cell_type": "markdown",
   "id": "48c01751",
   "metadata": {},
   "source": [
    "## **What is `Next.js`?**\n",
    "\n",
    "- `Next.js` is a `React framework` that provides a structure to the application.\n",
    "\n",
    "- It is built on top of `React` and provides features like `server-side rendering`, `static site generation`, `API routes`, etc.\n",
    "\n",
    "- It provided features like `file-based routing`, `image optimization`, `Data Fetching`, `Bundling and Minification`, etc.\n",
    "\n",
    "- It is a `Full Stack Framework`, therefore it has `Opinions` and `Conventions` to follow.\n",
    "\n",
    "<hr>\n",
    "\n",
    "### **Features of `Next.js`**\n",
    "\n",
    "**File-based Routing**\n",
    "\n",
    "- In `Next.js`, the files inside the `pages` directory are automatically mapped to routes.\n",
    "\n",
    "- For example, a file named `about.js` inside the `pages` directory will be accessible at `http://localhost:3000/about`.\n",
    "\n",
    "**API Routes**\n",
    "\n",
    "- `Next.js` allows you to create API endpoints inside the `pages/api` directory.\n",
    "\n",
    "- We can create both `Client Side` React Components and `Server Side` API routes in the same project.\n",
    "\n",
    "**Rendering Methods**\n",
    "\n",
    "- `Next.js` supports multiple rendering methods, including `Static Site Generation (SSG)`, `Server-Side Rendering (SSR)`, and `Client-Side Rendering (CSR)`.\n",
    "\n",
    "- This flexibility allows developers to choose the best rendering method for their specific use case.\n",
    "\n",
    "**Data Fetching**\n",
    "\n",
    "- `Next.js` provides built-in methods for data fetching, such as `getStaticProps`, `getServerSideProps`, and `getStaticPaths`.\n",
    "\n",
    "**Styling**\n",
    "\n",
    "- `Next.js` supports various styling options, including `CSS`, `Sass`, `CSS-in-JS`, and `Tailwind CSS`.\n",
    "\n",
    "- It also has built-in support for `CSS Modules`, allowing for scoped and modular styles.\n",
    "\n",
    "**Image Optimization**\n",
    "\n",
    "- `Next.js` has a built-in `Image` component that automatically optimizes images for better performance.\n",
    "\n",
    "- It supports features like lazy loading, resizing, and serving images in modern formats like `WebP`.\n",
    "\n",
    "- It also has built-in support for `Internationalization (i18n)`, making it easier to create multilingual applications.\n",
    "\n",
    "**Dev and Prod Build System**\n",
    "\n",
    "- `Next.js` provides a robust build system that optimizes the application for both development and production environments.\n",
    "\n",
    "- Developers can only focus on writing code, while `Next.js` handles the build optimizations.\n",
    "\n",
    "<hr>\n"
   ]
  },
  {
   "cell_type": "markdown",
   "id": "6f127886",
   "metadata": {},
   "source": [
    "<hr>\n",
    "<hr>\n",
    "<hr>\n"
   ]
  },
  {
   "cell_type": "markdown",
   "id": "0385b537",
   "metadata": {},
   "source": [
    "# **Getting Started with `Next.js`**\n",
    "\n",
    "[Doc_Link](https://nextjs.org/learn/dashboard-app/getting-started)\n",
    "\n",
    "<hr>\n",
    "\n",
    "**Creating a New `Next.js` Project**\n",
    "\n",
    "`npx create-next-app@latest my-next-app`\n",
    "\n",
    "`cd my-next-app`\n",
    "\n",
    "`npm run dev`\n",
    "\n",
    "<hr>\n",
    "\n",
    "## **Project Structure**\n",
    "\n",
    "**`package.json`**\n",
    "\n",
    "- Contains metadata about the project, including dependencies, scripts, and project information.\n",
    "\n",
    "**`next.config.js`**\n",
    "\n",
    "- Contains configuration settings for the Next.js application, such as custom webpack configurations, environment variables, and more.\n",
    "\n",
    "**`tsconfig.json`**\n",
    "\n",
    "- Contains TypeScript configuration settings for the project, such as compiler options and type checking settings.\n",
    "\n",
    "**`eslint.config.mjs`**\n",
    "\n",
    "- Contains configuration settings for ESLint, a tool for identifying and fixing linting issues in the codebase.\n"
   ]
  }
 ],
 "metadata": {
  "language_info": {
   "name": "python"
  }
 },
 "nbformat": 4,
 "nbformat_minor": 5
}
